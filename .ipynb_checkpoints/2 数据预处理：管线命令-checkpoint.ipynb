{
 "cells": [
  {
   "cell_type": "markdown",
   "metadata": {},
   "source": [
    "管线命令不经常用，但是很有用。它们可以把多个步骤组合成一个对象执行。这样\n",
    "可以更方便灵活地调节和控制整个模型的配置，而不只是一个一个步骤调节。  \n",
    "这里我们首先通过计算处理缺失值；然后将数据集调整为均值为\n",
    "0，标准差为1的标准形。"
   ]
  },
  {
   "cell_type": "code",
   "execution_count": 37,
   "metadata": {
    "collapsed": false
   },
   "outputs": [],
   "source": [
    "from sklearn import datasets as d\n",
    "import numpy as np "
   ]
  },
  {
   "cell_type": "code",
   "execution_count": 38,
   "metadata": {
    "collapsed": false
   },
   "outputs": [
    {
     "data": {
      "text/plain": [
       "array([[ 0.95115386,  1.2985632 ,  0.75860609,  0.05532325],\n",
       "       [ 1.2985632 ,  3.85065463,  2.04004338,  0.5969275 ],\n",
       "       [ 0.75860609,  2.04004338,  1.46376199,  0.40184326],\n",
       "       [ 0.05532325,  0.5969275 ,  0.40184326,  0.66975123]])"
      ]
     },
     "execution_count": 38,
     "metadata": {},
     "output_type": "execute_result"
    }
   ],
   "source": [
    "mat = d.make_spd_matrix(10)\n",
    "mat[:4,:4]"
   ]
  },
  {
   "cell_type": "markdown",
   "metadata": {},
   "source": [
    "> 不使用管线命令时的数据预处理"
   ]
  },
  {
   "cell_type": "code",
   "execution_count": 47,
   "metadata": {
    "collapsed": false
   },
   "outputs": [
    {
     "data": {
      "text/plain": [
       "array([[ nan,  nan,  nan,  nan],\n",
       "       [ nan,  10.,  nan,  nan],\n",
       "       [ nan,  nan,  nan,   1.],\n",
       "       [  1.,   1.,  nan,  nan]])"
      ]
     },
     "execution_count": 47,
     "metadata": {},
     "output_type": "execute_result"
    }
   ],
   "source": [
    "# 处理缺失值\n",
    "masking_array = np.random.binomial(1,.1,mat.shape).astype(bool)\n",
    "mat[masking_array] = 1\n",
    "mat[:4,:4]"
   ]
  },
  {
   "cell_type": "code",
   "execution_count": 48,
   "metadata": {
    "collapsed": false
   },
   "outputs": [
    {
     "data": {
      "text/plain": [
       "array([[  4.6,   5.5,   1. ,   1. ],\n",
       "       [  4.6,  10. ,   1. ,   1. ],\n",
       "       [  4.6,   5.5,   1. ,   1. ],\n",
       "       [  1. ,   1. ,   1. ,   1. ]])"
      ]
     },
     "execution_count": 48,
     "metadata": {},
     "output_type": "execute_result"
    }
   ],
   "source": [
    "from sklearn import preprocessing\n",
    "impute = preprocessing.Imputer()\n",
    "scaler = preprocessing.StandardScaler()\n",
    "# 处理缺失值\n",
    "mat_imputed = impute.fit_transform(mat)\n",
    "mat_imputed[:4,:4]"
   ]
  },
  {
   "cell_type": "code",
   "execution_count": 50,
   "metadata": {
    "collapsed": false
   },
   "outputs": [
    {
     "data": {
      "text/plain": [
       "array([[ 0.        ,  0.        ,  0.        ,  0.        ],\n",
       "       [ 0.        ,  1.58113883,  0.        ,  0.        ],\n",
       "       [ 0.        ,  0.        ,  0.        ,  0.        ],\n",
       "       [-1.15470054, -1.58113883,  0.        ,  0.        ]])"
      ]
     },
     "execution_count": 50,
     "metadata": {},
     "output_type": "execute_result"
    }
   ],
   "source": [
    "# 标准化\n",
    "mat_imp_and_scaled=scaler.fit_transform(mat_imputed)\n",
    "mat_imp_and_scaled[:4,:4]"
   ]
  },
  {
   "cell_type": "markdown",
   "metadata": {},
   "source": [
    "> 使用pipeline"
   ]
  },
  {
   "cell_type": "code",
   "execution_count": 51,
   "metadata": {
    "collapsed": true
   },
   "outputs": [],
   "source": [
    "from sklearn import pipeline\n",
    "pipe = pipeline.Pipeline([('impute',impute),('scaler',scaler)])"
   ]
  },
  {
   "cell_type": "code",
   "execution_count": 54,
   "metadata": {
    "collapsed": false
   },
   "outputs": [
    {
     "data": {
      "text/plain": [
       "Pipeline(steps=[('impute', Imputer(axis=0, copy=True, missing_values='NaN', strategy='mean', verbose=0)), ('scaler', StandardScaler(copy=True, with_mean=True, with_std=True))])"
      ]
     },
     "execution_count": 54,
     "metadata": {},
     "output_type": "execute_result"
    }
   ],
   "source": [
    "pipe\n",
    "# 管线命令定义了处理步骤"
   ]
  },
  {
   "cell_type": "code",
   "execution_count": 55,
   "metadata": {
    "collapsed": false
   },
   "outputs": [
    {
     "data": {
      "text/plain": [
       "array([[ 0.        ,  0.        ,  0.        ,  0.        ],\n",
       "       [ 0.        ,  1.58113883,  0.        ,  0.        ],\n",
       "       [ 0.        ,  0.        ,  0.        ,  0.        ],\n",
       "       [-1.15470054, -1.58113883,  0.        ,  0.        ]])"
      ]
     },
     "execution_count": 55,
     "metadata": {},
     "output_type": "execute_result"
    }
   ],
   "source": [
    "new_mat = pipe.fit_transform(mat)\n",
    "new_mat[:4,:4]"
   ]
  },
  {
   "cell_type": "code",
   "execution_count": 56,
   "metadata": {
    "collapsed": false
   },
   "outputs": [
    {
     "data": {
      "text/plain": [
       "True"
      ]
     },
     "execution_count": 56,
     "metadata": {},
     "output_type": "execute_result"
    }
   ],
   "source": [
    "np.array_equal(new_mat,mat_imp_and_scaled)"
   ]
  },
  {
   "cell_type": "markdown",
   "metadata": {},
   "source": [
    "管线命令不仅可以用于预处理步骤中，在降维、算法拟合中也可以很方便的使用。和其他算法接口类似，pipeline中最重要的三个函数：  \n",
    "* fit  \n",
    "* transform  \n",
    "* fit_transform  \n",
    "它就是一组 \tfor\t循环，对每个步骤执\n",
    "行 \tfit\t和 \ttransform\t，然后把结果传递到下一个变换操作中。\n",
    "使用管线命令的理由主要有两点：\n",
    "首先是方便。代码会简洁一些，不需要重复调用 \tfit\t和 \ttransform\t。  \n",
    "其次，也是更重要的作用，就是使用交叉验证。模型可以变得很复杂。如果管\n",
    "线命令中的一个步骤调整了参数，那么它们必然需要重新测试；测试一个步骤\n",
    "参数的代码管理成本是很低的。但是，如果测试5个步骤的全部参数会变都很\n",
    "复杂。管线命令可以缓解这些负担。"
   ]
  }
 ],
 "metadata": {
  "kernelspec": {
   "display_name": "Python 3",
   "language": "python",
   "name": "python3"
  },
  "language_info": {
   "codemirror_mode": {
    "name": "ipython",
    "version": 3
   },
   "file_extension": ".py",
   "mimetype": "text/x-python",
   "name": "python",
   "nbconvert_exporter": "python",
   "pygments_lexer": "ipython3",
   "version": "3.6.0"
  }
 },
 "nbformat": 4,
 "nbformat_minor": 2
}
