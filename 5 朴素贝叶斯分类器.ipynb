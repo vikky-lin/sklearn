{
 "cells": [
  {
   "cell_type": "code",
   "execution_count": 55,
   "metadata": {
    "collapsed": false
   },
   "outputs": [],
   "source": [
    "from sklearn.datasets import fetch_20newsgroups\n",
    "\n",
    "categories = ['rec.autos','rec.motorcycles']\n",
    "newgroups = fetch_20newsgroups(categories=categories)"
   ]
  },
  {
   "cell_type": "code",
   "execution_count": 88,
   "metadata": {
    "collapsed": false
   },
   "outputs": [],
   "source": [
    "from sklearn.feature_extraction.text import CountVectorizer\n",
    "count_vec =CountVectorizer()\n",
    "bow = count_vec.fit_transform(newgroups.data)\n",
    "bow = np.array(bow.todense())\n",
    "words = np.array(count_vec.get_feature_names())"
   ]
  },
  {
   "cell_type": "code",
   "execution_count": 90,
   "metadata": {
    "collapsed": false
   },
   "outputs": [
    {
     "data": {
      "text/plain": [
       "0.93434343434343436"
      ]
     },
     "execution_count": 90,
     "metadata": {},
     "output_type": "execute_result"
    }
   ],
   "source": [
    "import numpy as np\n",
    "from sklearn import naive_bayes\n",
    "clf = naive_bayes.GaussianNB()\n",
    "size = len(bow)\n",
    "mask = np.random.choice([True,False],size)\n",
    "clf.fit(bow[mask],newgroups.target[mask])\n",
    "predictions = clf.predict(bow[~mask])\n",
    "(predictions==newgroups.target[~mask]).mean()"
   ]
  },
  {
   "cell_type": "code",
   "execution_count": 102,
   "metadata": {
    "collapsed": false
   },
   "outputs": [
    {
     "data": {
      "text/plain": [
       "0.96345514950166111"
      ]
     },
     "execution_count": 102,
     "metadata": {},
     "output_type": "execute_result"
    }
   ],
   "source": [
    "from sklearn.datasets import fetch_20newsgroups\n",
    "mn_categories = [\"rec.autos\",\"rec.motorcycles\",\"talk.politics.guns\"]\n",
    "mn_newgroups = fetch_20newsgroups(categories=mn_categories)\n",
    "\n",
    "mn_bow = count_vec.fit_transform(mn_newgroups.data)\n",
    "mn_bow = np.array(mn_bow.todense())\n",
    "\n",
    "mn_mask = np.random.choice([True,False],len(mn_newgroups.data))\n",
    "multinom = naive_bayes.MultinomialNB()\n",
    "multinom.fit(mn_bow[mn_mask],mn_newgroups.target[mn_mask])\n",
    "mn_predict = multinom.predict(mn_bow[~mn_mask])\n",
    "np.mean(mn_predict == mn_newgroups.target[~mn_mask])"
   ]
  },
  {
   "cell_type": "code",
   "execution_count": 117,
   "metadata": {
    "collapsed": false
   },
   "outputs": [
    {
     "data": {
      "text/plain": [
       "array([[1, 1, 0, 0, 1]], dtype=int64)"
      ]
     },
     "execution_count": 117,
     "metadata": {},
     "output_type": "execute_result"
    }
   ],
   "source": [
    "from sklearn.feature_extraction.text import CountVectorizer\n",
    "vectorizer = CountVectorizer(min_df=1,max_features=5)\n",
    "corpus = [\n",
    "     'This is the first document.',\n",
    "     'This is the second second second document.',\n",
    "     'And the third one.',\n",
    "     'Is this the first document?',\n",
    " ]\n",
    "x = vectorizer.fit_transform(corpus)\n",
    "vectorizer.transform(['this is document']).toarray()   #transform用于转换测试数据"
   ]
  }
 ],
 "metadata": {
  "kernelspec": {
   "display_name": "Python 3",
   "language": "python",
   "name": "python3"
  },
  "language_info": {
   "codemirror_mode": {
    "name": "ipython",
    "version": 3
   },
   "file_extension": ".py",
   "mimetype": "text/x-python",
   "name": "python",
   "nbconvert_exporter": "python",
   "pygments_lexer": "ipython3",
   "version": "3.6.0"
  }
 },
 "nbformat": 4,
 "nbformat_minor": 2
}
